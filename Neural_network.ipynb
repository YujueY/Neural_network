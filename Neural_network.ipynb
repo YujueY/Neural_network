{
 "cells": [
  {
   "cell_type": "code",
   "execution_count": 39,
   "metadata": {},
   "outputs": [],
   "source": [
    "from sklearn import datasets\n",
    "import matplotlib.pyplot as plt\n",
    "from sklearn.model_selection import train_test_split"
   ]
  },
  {
   "cell_type": "code",
   "execution_count": 40,
   "metadata": {},
   "outputs": [],
   "source": [
    "# Loading the data \n",
    "digits = datasets.load_digits()"
   ]
  },
  {
   "cell_type": "code",
   "execution_count": 41,
   "metadata": {},
   "outputs": [
    {
     "data": {
      "image/png": "[encoded data removed]",
      "text/plain": [
       "<Figure size 432x288 with 10 Axes>"
      ]
     },
     "metadata": {},
     "output_type": "display_data"
    }
   ],
   "source": [
    "for i in range(1,11):\n",
    "    # 行数，列数，索引值\n",
    "    plt.subplot(2,5,i)\n",
    "    # 参数：cmap 将标量数据映射到色彩图\n",
    "    plt.imshow(digits.data[i-1].reshape([8,8]),cmap=plt.cm.gray_r)\n",
    "    # x, y : scalars 放置text的位置\n",
    "    # s : str 内容text\n",
    "    plt.text(3,10,str(digits.target[i-1]))\n",
    "    # 设置x轴\n",
    "    plt.xticks([])\n",
    "    # 设置y轴\n",
    "    plt.yticks([])\n",
    "plt.show()"
   ]
  },
  {
   "cell_type": "code",
   "execution_count": 42,
   "metadata": {},
   "outputs": [],
   "source": [
    "# 划分训练集和测试集\n",
    "X_train, X_test, y_train, y_test = train_test_split(digits.data, digits.target, test_size = 0.25)"
   ]
  },
  {
   "cell_type": "code",
   "execution_count": 43,
   "metadata": {},
   "outputs": [],
   "source": [
    "# 定义标签，大于5为1，小于5为0\n",
    "y_train[y_train < 5 ] = 0\n",
    "y_train[y_train >= 5] = 1\n",
    "y_test[y_test < 5] = 0\n",
    "y_test[y_test >= 5] = 1"
   ]
  },
  {
   "cell_type": "code",
   "execution_count": 44,
   "metadata": {},
   "outputs": [
    {
     "name": "stdout",
     "output_type": "stream",
     "text": [
      "(1347, 64)\n",
      "(450, 64)\n",
      "(1347,)\n",
      "(450,)\n"
     ]
    }
   ],
   "source": [
    "print(X_train.shape)\n",
    "print(X_test.shape)\n",
    "print(y_train.shape)\n",
    "print(y_test.shape)"
   ]
  },
  {
   "cell_type": "code",
   "execution_count": 45,
   "metadata": {},
   "outputs": [],
   "source": [
    "# 定义激活函数\n",
    "def sigmoid(z):\n",
    "    s = 1/(1 + np.exp(-1 * z))\n",
    "    return s"
   ]
  },
  {
   "cell_type": "code",
   "execution_count": 46,
   "metadata": {},
   "outputs": [
    {
     "name": "stdout",
     "output_type": "stream",
     "text": [
      "sigmoid([0,2]) = [0.5        0.88079708]\n"
     ]
    }
   ],
   "source": [
    "import numpy as np\n",
    "print(\"sigmoid([0,2]) = \" + str(sigmoid(np.array([0,2]))))"
   ]
  },
  {
   "cell_type": "code",
   "execution_count": 47,
   "metadata": {},
   "outputs": [],
   "source": [
    "# 初始化参数\n",
    "def initialize_parameters(dim):\n",
    "    '''\n",
    "    Argument: dim -- size of the w vector\n",
    "    \n",
    "    Returns:\n",
    "    w -- initialized vector of shape (dim,1)\n",
    "    b -- initializaed scalar\n",
    "    '''\n",
    "    \n",
    "    w = np.random.randn(dim, 1)\n",
    "    b = 0\n",
    "\n",
    "    assert(w.shape == (dim,1))\n",
    "    assert(isinstance(b,float) or isinstance(b,int))\n",
    "    \n",
    "    return w,b"
   ]
  },
  {
   "cell_type": "code",
   "execution_count": 48,
   "metadata": {},
   "outputs": [
    {
     "data": {
      "text/plain": [
       "(array([[-0.07985286],\n",
       "        [-1.33612638]]), 0)"
      ]
     },
     "execution_count": 48,
     "metadata": {},
     "output_type": "execute_result"
    }
   ],
   "source": [
    "initialize_parameters(2)"
   ]
  },
  {
   "cell_type": "code",
   "execution_count": 49,
   "metadata": {},
   "outputs": [],
   "source": [
    "# 前后向传播\n",
    "def propagate(w,b,X,Y):\n",
    "\n",
    "    m = X.shape[0]\n",
    "\n",
    "    # A:1*1347\n",
    "    A = sigmoid(np.dot(w.T, X.T) + b)\n",
    "    cost = 0\n",
    "    for i in range(len(Y)):\n",
    "        k = A[0][i]\n",
    "        if k == 1 or k == 0:\n",
    "            cost += 0\n",
    "        else:\n",
    "            j = Y[i] * np.log(A[0][i]) + (1 - Y[i]) * np.log(1 - A[0][i])\n",
    "            cost += j\n",
    "    cost = (-1 / m) * cost\n",
    "    dw = 1 / m * np.dot(X.T, (A.T - np.array(Y).reshape((len(Y),1))))\n",
    "    db = 1 / m * sum(A[0][i] - Y[i] for i in range(len(Y)))\n",
    "    assert(dw.shape == w.shape)\n",
    "    assert(db.dtype == float)\n",
    "    # 把shape中为1的维度去掉\n",
    "    cost = np.squeeze(cost)\n",
    "    assert(cost.shape == ())\n",
    "    \n",
    "    grads = {'dw':dw,\n",
    "             'db':db}\n",
    "    return grads, cost"
   ]
  },
  {
   "cell_type": "code",
   "execution_count": 50,
   "metadata": {},
   "outputs": [],
   "source": [
    "# 梯度下降\n",
    "def optimize(w, b, X, Y, num_iterations, learning_rate, print_cost=False):\n",
    "    costs = []\n",
    "    \n",
    "    for i in range(num_iterations):\n",
    "        \n",
    "        grads, cost = propagate(w,b,X,Y)\n",
    "        \n",
    "        dw = grads['dw']\n",
    "        db = grads['db']\n",
    "        w = w - 1 * dw * learning_rate\n",
    "        b = b - 1 * db * learning_rate\n",
    "        \n",
    "        if i % 100 == 0:\n",
    "            costs.append(cost)\n",
    "        if print_cost and i % 100 == 0:\n",
    "            print (\"Cost after iteration %i: %f\" %(i, cost))\n",
    "    \n",
    "    params = {\"w\":w,\n",
    "              \"b\":b}\n",
    "    \n",
    "    grads = {\"dw\":dw,\n",
    "             \"db\":db}\n",
    "    \n",
    "    return params, grads, costs"
   ]
  },
  {
   "cell_type": "code",
   "execution_count": 51,
   "metadata": {},
   "outputs": [],
   "source": [
    "# 预测\n",
    "def predict(w, b, X):\n",
    "    m = X.shape[0]\n",
    "    Y_prediction = np.zeros((1,m))\n",
    "    \n",
    "    A = sigmoid(np.dot(w.T, X.T) + b)\n",
    "    \n",
    "    for i in range(A.shape[1]):\n",
    "        if A[0][i] > 0.5:\n",
    "            Y_prediction[0][i] = 1\n",
    "        else:\n",
    "            Y_prediction[0][i] = 0\n",
    "    \n",
    "    assert(Y_prediction.shape == (1,m))\n",
    "    \n",
    "    return Y_prediction"
   ]
  },
  {
   "cell_type": "code",
   "execution_count": 52,
   "metadata": {},
   "outputs": [],
   "source": [
    "# 构建模型\n",
    "def model(X_train, Y_train, X_test, Y_test, num_iterations, learning_rate,print_cost):\n",
    "    w, b = initialize_parameters(X_train.shape[1])\n",
    "    params, grads, costs = optimize(w, b, X_train, Y_train, num_iterations, learning_rate, print_cost=False)\n",
    "    w = params[\"w\"]\n",
    "    b = params[\"b\"]\n",
    "    d = {}\n",
    "    d[\"w\"] = w\n",
    "    d[\"b\"] = b\n",
    "    d[\"cost\"] = costs\n",
    "    Y_train_predict = predict(w, b, X_train)\n",
    "    Y_test_predict = predict(w, b, X_test)\n",
    "    count_train = 0\n",
    "    count_test = 0\n",
    "    for i in range(len(Y_train)):\n",
    "        if Y_train_predict[0][i] == Y_train[i]:\n",
    "            count_train += 1\n",
    "    for i in range(len(Y_test)):\n",
    "        if Y_test_predict[0][i] == Y_test[i]:\n",
    "            count_test += 1\n",
    "    d[\"training_accuracy\"] = count_train / len(Y_train)\n",
    "    d[\"test_accuracy\"] = count_test / len(Y_test)\n",
    "    \n",
    "    return d"
   ]
  },
  {
   "cell_type": "code",
   "execution_count": 53,
   "metadata": {},
   "outputs": [
    {
     "name": "stdout",
     "output_type": "stream",
     "text": [
      "{'w': array([[ 0.22716345],\n",
      "       [ 0.34041685],\n",
      "       [-0.72658766],\n",
      "       [ 0.46179939],\n",
      "       [-0.14184814],\n",
      "       [ 0.40795423],\n",
      "       [ 1.4712273 ],\n",
      "       [ 1.47753155],\n",
      "       [-0.04498703],\n",
      "       [-0.53936878],\n",
      "       [ 0.61178864],\n",
      "       [ 0.37627589],\n",
      "       [-0.04544453],\n",
      "       [ 0.10304239],\n",
      "       [-0.98149184],\n",
      "       [ 0.58732966],\n",
      "       [ 0.26972674],\n",
      "       [ 0.25273268],\n",
      "       [ 0.28641529],\n",
      "       [-0.16605923],\n",
      "       [-0.85143482],\n",
      "       [-0.16027015],\n",
      "       [-0.22524447],\n",
      "       [ 0.07314009],\n",
      "       [-0.8924739 ],\n",
      "       [-0.40849925],\n",
      "       [-0.1146791 ],\n",
      "       [ 0.95184404],\n",
      "       [-0.19834901],\n",
      "       [ 0.5249815 ],\n",
      "       [-0.58165976],\n",
      "       [-0.96133936],\n",
      "       [ 0.47061335],\n",
      "       [-0.45340539],\n",
      "       [-0.14127797],\n",
      "       [ 0.3582338 ],\n",
      "       [-0.15746858],\n",
      "       [-0.21982165],\n",
      "       [ 0.15509144],\n",
      "       [-1.53723924],\n",
      "       [ 0.35825566],\n",
      "       [-0.09535257],\n",
      "       [ 0.04462151],\n",
      "       [ 0.26036676],\n",
      "       [ 0.32134406],\n",
      "       [ 0.315163  ],\n",
      "       [ 0.67373006],\n",
      "       [-1.40639259],\n",
      "       [ 1.36861573],\n",
      "       [ 0.5502275 ],\n",
      "       [ 0.06879696],\n",
      "       [-0.43047168],\n",
      "       [-0.6835071 ],\n",
      "       [-0.39342269],\n",
      "       [ 0.00541386],\n",
      "       [ 0.13008815],\n",
      "       [-0.14893291],\n",
      "       [-0.4882079 ],\n",
      "       [ 0.52036955],\n",
      "       [-0.55648004],\n",
      "       [-0.40383623],\n",
      "       [ 0.14475176],\n",
      "       [-0.78928076],\n",
      "       [ 0.92823168]]), 'b': -0.029687370752997412, 'cost': [2.3323879809099575, 2.497948126327106, 1.5496858792644197, 1.1963399235448464, 1.0159173329427391, 0.8704284359151652, 0.7662944780147104, 0.6895628228722251, 0.6316154022622231, 0.5869827536367479], 'training_accuracy': 0.8730512249443207, 'test_accuracy': 0.8644444444444445}\n"
     ]
    }
   ],
   "source": [
    "d = model(X_train, y_train, X_test, y_test, num_iterations = 1000, learning_rate = 1e-2,print_cost = True)\n",
    "print(d)"
   ]
  },
  {
   "cell_type": "code",
   "execution_count": 54,
   "metadata": {},
   "outputs": [
    {
     "data": {
      "image/png": "[encoded data removed]",
      "text/plain": [
       "<Figure size 432x288 with 1 Axes>"
      ]
     },
     "metadata": {
      "needs_background": "light"
     },
     "output_type": "display_data"
    }
   ],
   "source": [
    "plt.plot(d['cost'])\n",
    "plt.show()"
   ]
  },
  {
   "cell_type": "code",
   "execution_count": 55,
   "metadata": {},
   "outputs": [],
   "source": [
    "d1 = model(X_train, y_train, X_test, y_test, num_iterations = 1000, learning_rate = 1e-2,print_cost = False)\n",
    "d2 = model(X_train, y_train, X_test, y_test, num_iterations = 1000, learning_rate = 1e-4,print_cost = False)\n",
    "d3 = model(X_train, y_train, X_test, y_test, num_iterations = 1000, learning_rate = 1e-6,print_cost = False)"
   ]
  },
  {
   "cell_type": "code",
   "execution_count": 56,
   "metadata": {},
   "outputs": [
    {
     "data": {
      "image/png": "[encoded data removed]",
      "text/plain": [
       "<Figure size 432x288 with 1 Axes>"
      ]
     },
     "metadata": {
      "needs_background": "light"
     },
     "output_type": "display_data"
    }
   ],
   "source": [
    "plt.plot(d1['cost'], color = 'red')\n",
    "plt.plot(d2['cost'], color = 'green')\n",
    "plt.plot(d3['cost'], color = 'blue')\n",
    "plt.show()"
   ]
  },
  {
   "cell_type": "code",
   "execution_count": 57,
   "metadata": {},
   "outputs": [
    {
     "name": "stdout",
     "output_type": "stream",
     "text": [
      "迭代500次，测试准确率0.8311111111111111\n",
      "迭代1000次，测试准确率0.8555555555555555\n",
      "迭代5000次，测试准确率0.9133333333333333\n"
     ]
    }
   ],
   "source": [
    "d4 = model(X_train, y_train, X_test, y_test, num_iterations = 500, learning_rate = 1e-2,print_cost = False)\n",
    "d5 = model(X_train, y_train, X_test, y_test, num_iterations = 1000, learning_rate = 1e-2,print_cost = False)\n",
    "d6 = model(X_train, y_train, X_test, y_test, num_iterations = 5000, learning_rate = 1e-2,print_cost = False)\n",
    "print('迭代{}次，测试准确率{}'.format('500',d4['test_accuracy']))\n",
    "print('迭代{}次，测试准确率{}'.format('1000',d5['test_accuracy']))\n",
    "print('迭代{}次，测试准确率{}'.format('5000',d6['test_accuracy']))"
   ]
  },
  {
   "cell_type": "code",
   "execution_count": null,
   "metadata": {},
   "outputs": [],
   "source": []
  }
 ],
 "metadata": {
  "kernelspec": {
   "display_name": "Python 3",
   "language": "python",
   "name": "python3"
  },
  "language_info": {
   "codemirror_mode": {
    "name": "ipython",
    "version": 3
   },
   "file_extension": ".py",
   "mimetype": "text/x-python",
   "name": "python",
   "nbconvert_exporter": "python",
   "pygments_lexer": "ipython3",
   "version": "3.7.4"
  }
 },
 "nbformat": 4,
 "nbformat_minor": 2
}
